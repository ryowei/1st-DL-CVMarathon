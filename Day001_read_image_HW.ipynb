{
 "cells": [
  {
   "cell_type": "markdown",
   "metadata": {},
   "source": [
    "# 作業\n",
    "\n",
    "思考一下我們前面有提到圖片是矩陣，但維度可能會不一樣\n",
    "例如灰階圖只有兩個維度，RGB 彩圖則有 3 個維度\n",
    "\n",
    "假如今天我們把 RGB 3 個維度拆開來看會有甚麼不同的效果呢？"
   ]
  },
  {
   "cell_type": "markdown",
   "metadata": {},
   "source": [
    "\n",
    "\n",
    "1. cv2.IMREAD_COLOR\n",
    " - 此為預設值，這種格式會讀取 RGB 三個 channels 的彩色圖片，而忽略透明度的 channel。\n",
    "2. cv2.IMREAD_GRAYSCALE\n",
    " - 以灰階的格式來讀取圖片。\n",
    "3. cv2.IMREAD_UNCHANGED\n",
    " - 讀取圖片中所有的 channels，包含透明度的 channel。"
   ]
  },
  {
   "cell_type": "code",
   "execution_count": 1,
   "metadata": {},
   "outputs": [],
   "source": [
    "import cv2\n",
    "\n",
    "img_path = \"./data/lena.png\"\n"
   ]
  },
  {
   "cell_type": "code",
   "execution_count": null,
   "metadata": {},
   "outputs": [],
   "source": [
    "'''# 以彩色圖片的方式載入'''\n",
    "img = cv2.imread(img_path, cv2.IMREAD_COLOR)\n",
    "\n",
    "\n",
    "# 查看資料型態\n",
    "print(type(img))\n",
    "\n",
    "# 查看資料的維度\n",
    "print(img.shape)"
   ]
  },
  {
   "cell_type": "code",
   "execution_count": null,
   "metadata": {},
   "outputs": [],
   "source": [
    "'''# 以彩色圖片的方式載入'''\n",
    "img_rainbow = cv2.imread(img_path, cv2.IMREAD_COLOR)\n",
    "\n",
    "# 顯示圖片\n",
    "cv2.imshow('My Image', img_rainbow)\n",
    "\n",
    "# 按下任意鍵則關閉所有視窗\n",
    "cv2.waitKey(0)\n",
    "cv2.destroyAllWindows()\n"
   ]
  },
  {
   "cell_type": "code",
   "execution_count": null,
   "metadata": {},
   "outputs": [],
   "source": [
    "'''# 以灰階圖片的方式載入'''\n",
    "img_gray = cv2.imread(img_path, cv2.IMREAD_GRAYSCALE)\n",
    "\n",
    "# 顯示圖片\n",
    "cv2.imshow('My Image', img_gray)\n",
    "\n",
    "# 按下任意鍵則關閉所有視窗\n",
    "cv2.waitKey(0)\n",
    "cv2.destroyAllWindows()\n",
    "break"
   ]
  },
  {
   "cell_type": "markdown",
   "metadata": {},
   "source": [
    "## 3 個維度拆開來看"
   ]
  },
  {
   "cell_type": "code",
   "execution_count": null,
   "metadata": {},
   "outputs": [],
   "source": [
    "import cv2\n",
    "\n",
    "\n",
    "img_path = \"./data/lena.png\"\n",
    "\n",
    "\n",
    "# 以彩色圖片的方式載入\n",
    "img = cv2.imread(img_path, cv2.IMREAD_COLOR)\n",
    "\n",
    "print(img.shape)\n",
    "\n",
    "imgB = img.copy()\n",
    "imgB[:,:,1] = 0\n",
    "imgB[:,:,2] = 0\n",
    "\n",
    "imgG = img.copy()\n",
    "imgG[:,:,0] = 0\n",
    "imgG[:,:,2] = 0\n",
    "\n",
    "imgR = img.copy()\n",
    "imgR[:,:,0] = 0\n",
    "imgR[:,:,1] = 0\n",
    "\n",
    "\n",
    "# 為了要不斷顯示圖片，所以使用一個迴圈\n",
    "while True:\n",
    "    # 顯示彩圖(R)\n",
    "    cv2.imshow('R channel', imgR)\n",
    "    # 顯示彩圖(G)\n",
    "    cv2.imshow('G channel', imgG)\n",
    "    # 顯示彩圖(B)\n",
    "    cv2.imshow('B channel', imgB)\n",
    "\n",
    "    # 直到按下 ESC 鍵才會自動關閉視窗結束程式\n",
    "    k = cv2.waitKey(0)\n",
    "    if k == 27:\n",
    "        cv2.destroyAllWindows()\n",
    "        break"
   ]
  },
  {
   "cell_type": "code",
   "execution_count": null,
   "metadata": {},
   "outputs": [],
   "source": []
  }
 ],
 "metadata": {
  "kernelspec": {
   "display_name": "Python 3",
   "language": "python",
   "name": "python3"
  },
  "language_info": {
   "codemirror_mode": {
    "name": "ipython",
    "version": 3
   },
   "file_extension": ".py",
   "mimetype": "text/x-python",
   "name": "python",
   "nbconvert_exporter": "python",
   "pygments_lexer": "ipython3",
   "version": "3.7.3"
  }
 },
 "nbformat": 4,
 "nbformat_minor": 2
}
