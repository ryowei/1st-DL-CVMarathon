{
 "cells": [
  {
   "cell_type": "markdown",
   "metadata": {},
   "source": [
    "# 作業\n",
    "\n",
    "使用 [Lena](http://optipng.sourceforge.net/pngtech/img/lena.png)\n",
    "\n",
    "- 改變圖片的 color space (`HLS`, `LAB`) 並呈現\n",
    "\n",
    "------\n"
   ]
  },
  {
   "cell_type": "markdown",
   "metadata": {},
   "source": [
    "## 表⽰顏色的方法\n",
    "\n",
    "\n",
    "### 主要是用 RGB 來定義\n",
    "\n",
    "#### 主要有兩種方向:\n",
    "\n",
    "1. 改變**維度**:使用更多維度來表示一種顏色，使得整個空間可以定義更多種顏色\n",
    "\n",
    "2. 改變數值意義:RGB 的三個數字定義三種顏⾊的值，改變定義就是不一樣的表⽰\n",
    "\n",
    "\n",
    "#### RGB 的描述\n",
    " - HSB, HSV, HSL\n",
    " - H: Hue 色相: 以 360 度決定顏色\n",
    " - S: Saturation 飽和度: 以 0~100%決定色彩純度\n",
    "   - 黑白灰的色彩飽和度為 0 \n",
    " - B: Brightness 明度\n",
    "   - 黑色名度為 0\n",
    " - V: Value 明度\n",
    "   \n",
    "   \n",
    " - L: Lightness 亮度: \n",
    " \n",
    " - HSB = HSV, 只是名稱不同。\n",
    "\n",
    "\n",
    "#### 飽和度\n",
    "  - HSB 的飽和度 0~100% 是⽩色到選擇的⾊相  \n",
    "  - HSL 的飽和度 0~100% 是灰色到選擇的色相，他們認為純白⾊是飽和的顏色\n",
    "\n",
    "#### 亮度\n",
    " - HSB 的明度是光的量，可以是任何顏⾊\n",
    "   - e.g. B=100 時看 H, S 決定是甚麼顏色 \n",
    " - HSL 的亮度是⽩色的量\n",
    "   - e.g. B=100 時是⽩色\n",
    "   \n",
    "#### 比較 LAB\n",
    " - L = Lighness 以 0~100 決定明亮度 數值由小到大，由黑到⽩\n",
    " - A 以 -128~127 代表顏色對立的維度 數值由小到大，**由綠到紅**\n",
    " - B 以 -128~127 代表顏色對立的維度 數值由小到大，**由藍到黃**\n",
    " \n",
    "#### BGR\n",
    "  - at OpenCV 預設 BGR （與RGB同）\n",
    "#### RBGA\n",
    "  - A 表示透明度: 0~100 (越小越透明)\n",
    "  \n",
    "```python\n",
    "# code\n",
    "\n",
    "cv2.cvtColor(IMAGE, CODE) #轉換\n",
    "\n",
    "'''IMAGE：要轉換的圖片'''\n",
    "'''CODE：色彩空間轉換的目標：\n",
    "   1. cv2.COLOR_BGR2HSV  \n",
    "   2. cv2.COLOR_BGR2HLS  \n",
    "   3. cv2.COLOR_BGR2LAB \n",
    "'''\n",
    "\n",
    "\n",
    "\n",
    "```"
   ]
  },
  {
   "cell_type": "code",
   "execution_count": 3,
   "metadata": {},
   "outputs": [],
   "source": [
    "import cv2\n",
    "\n",
    "img_path = \"./data/lena.png\"\n",
    "\n",
    "\n",
    "'''# 以彩色圖片的方式載入'''\n",
    "img = cv2.imread(img_path, cv2.IMREAD_COLOR)"
   ]
  },
  {
   "cell_type": "code",
   "execution_count": null,
   "metadata": {},
   "outputs": [],
   "source": [
    "#BGR2HLS\n",
    "\n",
    "img_BGR2HLS = cv2.cvtColor(img, cv2.COLOR_BGR2HLS)\n",
    "\n",
    "# 為了要不斷顯示圖片，所以使用一個迴圈\n",
    "while True:\n",
    "    cv2.imshow('hsv', img_BGR2HLS)\n",
    "\n",
    "    # 直到按下 ESC 鍵才會自動關閉視窗結束程式\n",
    "    k = cv2.waitKey(0)\n",
    "    if k == 27:\n",
    "        cv2.destroyAllWindows()\n",
    "        break"
   ]
  },
  {
   "cell_type": "code",
   "execution_count": null,
   "metadata": {},
   "outputs": [],
   "source": [
    "#BGR2LAB\n",
    "\n",
    "img_BGR2LAB = cv2.cvtColor(img, cv2.COLOR_BGR2LAB)\n",
    "\n",
    "\n",
    "# 為了要不斷顯示圖片，所以使用一個迴圈\n",
    "while True:\n",
    "    cv2.imshow('hsv', img_BGR2LAB)\n",
    "\n",
    "    # 直到按下 ESC 鍵才會自動關閉視窗結束程式\n",
    "    k = cv2.waitKey(0)\n",
    "    if k == 27:\n",
    "        cv2.destroyAllWindows()\n",
    "        break"
   ]
  }
 ],
 "metadata": {
  "kernelspec": {
   "display_name": "Python 3",
   "language": "python",
   "name": "python3"
  },
  "language_info": {
   "codemirror_mode": {
    "name": "ipython",
    "version": 3
   },
   "file_extension": ".py",
   "mimetype": "text/x-python",
   "name": "python",
   "nbconvert_exporter": "python",
   "pygments_lexer": "ipython3",
   "version": "3.7.3"
  }
 },
 "nbformat": 4,
 "nbformat_minor": 2
}
