{
  "nbformat": 4,
  "nbformat_minor": 0,
  "metadata": {
    "accelerator": "GPU",
    "colab": {
      "name": "Day022_Captcha_HW.ipynb",
      "provenance": [],
      "collapsed_sections": []
    },
    "kernelspec": {
      "display_name": "Python 3",
      "language": "python",
      "name": "python3"
    },
    "language_info": {
      "codemirror_mode": {
        "name": "ipython",
        "version": 3
      },
      "file_extension": ".py",
      "mimetype": "text/x-python",
      "name": "python",
      "nbconvert_exporter": "python",
      "pygments_lexer": "ipython3",
      "version": "3.7.3"
    }
  },
  "cells": [
    {
      "cell_type": "markdown",
      "metadata": {
        "id": "Gd4EYv9UpirR",
        "colab_type": "text"
      },
      "source": [
        "## 『本次練習內容』\n",
        "#### 搭建一個能識別驗證碼的模型(CNN+CTC)"
      ]
    },
    {
      "cell_type": "markdown",
      "metadata": {
        "id": "30mplhXjpirV",
        "colab_type": "text"
      },
      "source": [
        "## 『本次練習目的』\n",
        "  #### 了解如何結合CNN與CTC Loss\n",
        "  #### 有時間學員也可以延伸閱讀CNN+RNN+CTC模型\n",
        "  #### 沒有GPU的學員可以使用Colab，可以參考問答區的文章"
      ]
    },
    {
      "cell_type": "code",
      "metadata": {
        "id": "wPsc6iYNpirX",
        "colab_type": "code",
        "colab": {
          "base_uri": "https://localhost:8080/",
          "height": 411
        },
        "outputId": "ff57d6d5-4236-49c7-8ada-199d635919c4"
      },
      "source": [
        "## 使用Colab可先run這裡的code\n",
        "#假如要連結自己的雲端硬碟再開啟\n",
        "from google.colab import drive\n",
        "drive.mount('/content/gdrive')\n",
        "#檢查GPU\n",
        "!nvidia-smi\n",
        "##安裝產生驗證碼的套件"
      ],
      "execution_count": 2,
      "outputs": [
        {
          "output_type": "stream",
          "text": [
            "Go to this URL in a browser: https://accounts.google.com/o/oauth2/auth?client_id=947318989803-6bn6qk8qdgf4n4g3pfee6491hc0brc4i.apps.googleusercontent.com&redirect_uri=urn%3aietf%3awg%3aoauth%3a2.0%3aoob&response_type=code&scope=email%20https%3a%2f%2fwww.googleapis.com%2fauth%2fdocs.test%20https%3a%2f%2fwww.googleapis.com%2fauth%2fdrive%20https%3a%2f%2fwww.googleapis.com%2fauth%2fdrive.photos.readonly%20https%3a%2f%2fwww.googleapis.com%2fauth%2fpeopleapi.readonly\n",
            "\n",
            "Enter your authorization code:\n",
            "··········\n",
            "Mounted at /content/gdrive\n",
            "Tue Dec 24 11:38:07 2019       \n",
            "+-----------------------------------------------------------------------------+\n",
            "| NVIDIA-SMI 440.44       Driver Version: 418.67       CUDA Version: 10.1     |\n",
            "|-------------------------------+----------------------+----------------------+\n",
            "| GPU  Name        Persistence-M| Bus-Id        Disp.A | Volatile Uncorr. ECC |\n",
            "| Fan  Temp  Perf  Pwr:Usage/Cap|         Memory-Usage | GPU-Util  Compute M. |\n",
            "|===============================+======================+======================|\n",
            "|   0  Tesla P100-PCIE...  Off  | 00000000:00:04.0 Off |                    0 |\n",
            "| N/A   42C    P0    28W / 250W |      0MiB / 16280MiB |      0%      Default |\n",
            "+-------------------------------+----------------------+----------------------+\n",
            "                                                                               \n",
            "+-----------------------------------------------------------------------------+\n",
            "| Processes:                                                       GPU Memory |\n",
            "|  GPU       PID   Type   Process name                             Usage      |\n",
            "|=============================================================================|\n",
            "|  No running processes found                                                 |\n",
            "+-----------------------------------------------------------------------------+\n"
          ],
          "name": "stdout"
        }
      ]
    },
    {
      "cell_type": "markdown",
      "metadata": {
        "id": "8jewiSnQpira",
        "colab_type": "text"
      },
      "source": [
        "## 記得先 pip install captcha"
      ]
    },
    {
      "cell_type": "code",
      "metadata": {
        "colab_type": "code",
        "id": "AxGi02yvx1Go",
        "outputId": "b4295708-eabf-4c05-a7f5-9a4c405b4191",
        "colab": {
          "base_uri": "https://localhost:8080/",
          "height": 156
        }
      },
      "source": [
        "!pip install captcha"
      ],
      "execution_count": 3,
      "outputs": [
        {
          "output_type": "stream",
          "text": [
            "Collecting captcha\n",
            "\u001b[?25l  Downloading https://files.pythonhosted.org/packages/90/fe/d4ddf1e6576073b5eaea76e9b2afa022c626212a30c871968480be3ccb7b/captcha-0.3-py3-none-any.whl (101kB)\n",
            "\r\u001b[K     |███▎                            | 10kB 19.9MB/s eta 0:00:01\r\u001b[K     |██████▌                         | 20kB 1.8MB/s eta 0:00:01\r\u001b[K     |█████████▊                      | 30kB 2.6MB/s eta 0:00:01\r\u001b[K     |█████████████                   | 40kB 1.7MB/s eta 0:00:01\r\u001b[K     |████████████████▏               | 51kB 2.1MB/s eta 0:00:01\r\u001b[K     |███████████████████▍            | 61kB 2.5MB/s eta 0:00:01\r\u001b[K     |██████████████████████▋         | 71kB 2.9MB/s eta 0:00:01\r\u001b[K     |█████████████████████████▉      | 81kB 3.3MB/s eta 0:00:01\r\u001b[K     |█████████████████████████████   | 92kB 3.7MB/s eta 0:00:01\r\u001b[K     |████████████████████████████████| 102kB 2.3MB/s \n",
            "\u001b[?25hRequirement already satisfied: Pillow in /usr/local/lib/python3.6/dist-packages (from captcha) (4.3.0)\n",
            "Requirement already satisfied: olefile in /usr/local/lib/python3.6/dist-packages (from Pillow->captcha) (0.46)\n",
            "Installing collected packages: captcha\n",
            "Successfully installed captcha-0.3\n"
          ],
          "name": "stdout"
        }
      ]
    },
    {
      "cell_type": "markdown",
      "metadata": {
        "id": "XkaoeHuRpiri",
        "colab_type": "text"
      },
      "source": [
        "## 產生驗證碼"
      ]
    },
    {
      "cell_type": "code",
      "metadata": {
        "colab_type": "code",
        "id": "h2VVCBKwk6Zv",
        "outputId": "1b218ac2-c636-45ec-f275-c8e3081fc193",
        "colab": {
          "base_uri": "https://localhost:8080/",
          "height": 254
        }
      },
      "source": [
        "from captcha.image import ImageCaptcha\n",
        "import matplotlib.pyplot as plt\n",
        "import numpy as np\n",
        "import random\n",
        "\n",
        "%matplotlib inline\n",
        "%config InlineBackend.figure_format = 'retina'\n",
        "\n",
        "import string\n",
        "##驗證碼包含0-10數字以及26個英文字母\n",
        "characters = string.digits + string.ascii_uppercase\n",
        "print(characters)\n",
        "\n",
        "##設定產生圖片尺寸，以及總類別，n_class之所以要加一是為了留一個位置給Blank\n",
        "width, height, n_len, n_class = 170, 80, 4, len(characters)+1\n",
        "\n",
        "##設定產生驗證碼的generator\n",
        "generator = ImageCaptcha(width=width, height=height)\n",
        "\n",
        "##我們先練習固定長度4個字的驗證碼\n",
        "random_str = ''.join([random.choice(characters) for j in range(4)])\n",
        "img = generator.generate_image(random_str)\n",
        "\n",
        "plt.imshow(img)\n",
        "plt.title(random_str)"
      ],
      "execution_count": 5,
      "outputs": [
        {
          "output_type": "stream",
          "text": [
            "0123456789ABCDEFGHIJKLMNOPQRSTUVWXYZ\n"
          ],
          "name": "stdout"
        },
        {
          "output_type": "execute_result",
          "data": {
            "text/plain": [
              "Text(0.5, 1.0, 'GWMT')"
            ]
          },
          "metadata": {
            "tags": []
          },
          "execution_count": 5
        },
        {
          "output_type": "display_data",
          "data": {
            "image/png": "[encoded data removed]",
            "text/plain": [
              "<Figure size 432x288 with 1 Axes>"
            ]
          },
          "metadata": {
            "tags": [],
            "image/png": {
              "width": 369,
              "height": 203
            }
          }
        }
      ]
    },
    {
      "cell_type": "markdown",
      "metadata": {
        "id": "TnpqKc6Dpirp",
        "colab_type": "text"
      },
      "source": [
        "## 自己搭建一個CNN模型使得output feature Map 高度被壓縮成小於4，8<寬度<20\n",
        "#### 解答的output feature Map 為 (batch_size,1,13,32)"
      ]
    },
    {
      "cell_type": "code",
      "metadata": {
        "colab_type": "code",
        "id": "KX3Jq1sClGGn",
        "outputId": "3b1e1084-a565-4d6e-ea67-deddd1d79766",
        "colab": {
          "base_uri": "https://localhost:8080/",
          "height": 80
        }
      },
      "source": [
        "from keras import backend as K\n",
        "import keras\n",
        "\n",
        "##CTC Loss需要四個資訊，分別是\n",
        "## Label\n",
        "## 預測\n",
        "## CNN OUTPUT寬度\n",
        "## 預測影像所包含文字長度\n",
        "def ctc_lambda_func(args):\n",
        "    y_pred, labels, input_length, label_length = args\n",
        "    return K.ctc_batch_cost(labels, y_pred, input_length, label_length)"
      ],
      "execution_count": 6,
      "outputs": [
        {
          "output_type": "stream",
          "text": [
            "Using TensorFlow backend.\n"
          ],
          "name": "stderr"
        },
        {
          "output_type": "display_data",
          "data": {
            "text/html": [
              "<p style=\"color: red;\">\n",
              "The default version of TensorFlow in Colab will soon switch to TensorFlow 2.x.<br>\n",
              "We recommend you <a href=\"https://www.tensorflow.org/guide/migrate\" target=\"_blank\">upgrade</a> now \n",
              "or ensure your notebook will continue to use TensorFlow 1.x via the <code>%tensorflow_version 1.x</code> magic:\n",
              "<a href=\"https://colab.research.google.com/notebooks/tensorflow_version.ipynb\" target=\"_blank\">more info</a>.</p>\n"
            ],
            "text/plain": [
              "<IPython.core.display.HTML object>"
            ]
          },
          "metadata": {
            "tags": []
          }
        }
      ]
    },
    {
      "cell_type": "code",
      "metadata": {
        "id": "P9SbcrG2uPh5",
        "colab_type": "code",
        "colab": {
          "base_uri": "https://localhost:8080/",
          "height": 1000
        },
        "outputId": "da5dc0ae-b0aa-4441-cadc-3b1637733e6b"
      },
      "source": [
        "from keras.models import *\n",
        "from keras.layers import *\n",
        "rnn_size = 128\n",
        "\n",
        "input_tensor = Input((height,width, 3))\n",
        "x = input_tensor\n",
        "\n",
        "'''自己設計CNN層'''\n",
        "x = Convolution2D(32, 3, 3, activation='relu')(x)\n",
        "x = Convolution2D(32, 3, 3, activation='relu')(x)\n",
        "x = BatchNormalization(axis=-1)(x)\n",
        "x = MaxPooling2D((2,2))(x)\n",
        "\n",
        "x = Convolution2D(32, 5, 5, activation='relu')(x)\n",
        "x = Convolution2D(32, 5, 5, activation='relu')(x)\n",
        "x = BatchNormalization(axis=-1)(x)\n",
        "x = MaxPooling2D((2,2))(x)\n",
        "\n",
        "x = Convolution2D(32, 3, 3, activation='relu')(x)\n",
        "x = Convolution2D(32, 3, 3, activation='relu')(x)\n",
        "x = BatchNormalization(axis=-1)(x)\n",
        "x = MaxPooling2D((2,2))(x)\n",
        "\n",
        "x = Convolution2D(32, 1, 1, activation='relu')(x)\n",
        "x = Convolution2D(32, 1, 1, activation='relu')(x)\n",
        "x = BatchNormalization(axis=-1)(x)\n",
        "x = MaxPooling2D((2,1))(x)\n",
        "\n",
        "\n",
        "##記錄輸出CNN尺寸，loss部分需要這個資訊\n",
        "##conv_shape=(Batch_size,輸出高度,輸出寬度,輸出深度)\n",
        "conv_shape = x.get_shape()\n",
        "\n",
        "##從(Batch_size,輸出高度,輸出寬度,輸出深度)變成(Batch_size,輸出寬度,輸出深度*輸出高度)，以符合ctc loss需求\n",
        "x = Reshape(target_shape=(int(conv_shape[2]), int(conv_shape[1]*conv_shape[3])))(x)\n",
        "\n",
        "x = Dense(32, activation='relu')(x)\n",
        "\n",
        "x = Dropout(0.25)(x)\n",
        "x = Dense(n_class, activation='softmax')(x)\n",
        "\n",
        "\n",
        "##包裝用來預測的model\n",
        "base_model = Model(input=input_tensor, output=x)\n",
        "\n",
        "\n",
        "##設定要給CTC Loss的資訊\n",
        "labels = Input(name='the_labels', shape=[n_len], dtype='float32')\n",
        "input_length = Input(name='input_length', shape=[1], dtype='int64')\n",
        "label_length = Input(name='label_length', shape=[1], dtype='int64')\n",
        "loss_out = Lambda(ctc_lambda_func, output_shape=(1,), \n",
        "                  name='ctc')([x, labels, input_length, label_length])\n",
        "\n",
        "##這裡的model是用來計算loss\n",
        "model = Model(input=[input_tensor, labels, input_length, label_length], output=[loss_out])\n",
        "\n",
        "##之所以要lambda y_true, y_pred: y_pred是因為我們的loss已經包在網路裡，會output:y_true, y_pred，而我們只需要y_pred\n",
        "model.compile(loss={'ctc': lambda y_true, y_pred: y_pred}, optimizer='SGD')\n",
        "\n",
        "model.summary()"
      ],
      "execution_count": 7,
      "outputs": [
        {
          "output_type": "stream",
          "text": [
            "WARNING:tensorflow:From /usr/local/lib/python3.6/dist-packages/keras/backend/tensorflow_backend.py:66: The name tf.get_default_graph is deprecated. Please use tf.compat.v1.get_default_graph instead.\n",
            "\n",
            "WARNING:tensorflow:From /usr/local/lib/python3.6/dist-packages/keras/backend/tensorflow_backend.py:541: The name tf.placeholder is deprecated. Please use tf.compat.v1.placeholder instead.\n",
            "\n",
            "WARNING:tensorflow:From /usr/local/lib/python3.6/dist-packages/keras/backend/tensorflow_backend.py:4432: The name tf.random_uniform is deprecated. Please use tf.random.uniform instead.\n",
            "\n",
            "WARNING:tensorflow:From /usr/local/lib/python3.6/dist-packages/keras/backend/tensorflow_backend.py:190: The name tf.get_default_session is deprecated. Please use tf.compat.v1.get_default_session instead.\n",
            "\n",
            "WARNING:tensorflow:From /usr/local/lib/python3.6/dist-packages/keras/backend/tensorflow_backend.py:197: The name tf.ConfigProto is deprecated. Please use tf.compat.v1.ConfigProto instead.\n",
            "\n",
            "WARNING:tensorflow:From /usr/local/lib/python3.6/dist-packages/keras/backend/tensorflow_backend.py:203: The name tf.Session is deprecated. Please use tf.compat.v1.Session instead.\n",
            "\n"
          ],
          "name": "stdout"
        },
        {
          "output_type": "stream",
          "text": [
            "/usr/local/lib/python3.6/dist-packages/ipykernel_launcher.py:9: UserWarning: Update your `Conv2D` call to the Keras 2 API: `Conv2D(32, (3, 3), activation=\"relu\")`\n",
            "  if __name__ == '__main__':\n",
            "/usr/local/lib/python3.6/dist-packages/ipykernel_launcher.py:10: UserWarning: Update your `Conv2D` call to the Keras 2 API: `Conv2D(32, (3, 3), activation=\"relu\")`\n",
            "  # Remove the CWD from sys.path while we load stuff.\n"
          ],
          "name": "stderr"
        },
        {
          "output_type": "stream",
          "text": [
            "WARNING:tensorflow:From /usr/local/lib/python3.6/dist-packages/keras/backend/tensorflow_backend.py:207: The name tf.global_variables is deprecated. Please use tf.compat.v1.global_variables instead.\n",
            "\n",
            "WARNING:tensorflow:From /usr/local/lib/python3.6/dist-packages/keras/backend/tensorflow_backend.py:216: The name tf.is_variable_initialized is deprecated. Please use tf.compat.v1.is_variable_initialized instead.\n",
            "\n",
            "WARNING:tensorflow:From /usr/local/lib/python3.6/dist-packages/keras/backend/tensorflow_backend.py:223: The name tf.variables_initializer is deprecated. Please use tf.compat.v1.variables_initializer instead.\n",
            "\n",
            "WARNING:tensorflow:From /usr/local/lib/python3.6/dist-packages/keras/backend/tensorflow_backend.py:2041: The name tf.nn.fused_batch_norm is deprecated. Please use tf.compat.v1.nn.fused_batch_norm instead.\n",
            "\n",
            "WARNING:tensorflow:From /usr/local/lib/python3.6/dist-packages/keras/backend/tensorflow_backend.py:148: The name tf.placeholder_with_default is deprecated. Please use tf.compat.v1.placeholder_with_default instead.\n",
            "\n",
            "WARNING:tensorflow:From /usr/local/lib/python3.6/dist-packages/keras/backend/tensorflow_backend.py:4267: The name tf.nn.max_pool is deprecated. Please use tf.nn.max_pool2d instead.\n",
            "\n"
          ],
          "name": "stdout"
        },
        {
          "output_type": "stream",
          "text": [
            "/usr/local/lib/python3.6/dist-packages/ipykernel_launcher.py:14: UserWarning: Update your `Conv2D` call to the Keras 2 API: `Conv2D(32, (5, 5), activation=\"relu\")`\n",
            "  \n",
            "/usr/local/lib/python3.6/dist-packages/ipykernel_launcher.py:15: UserWarning: Update your `Conv2D` call to the Keras 2 API: `Conv2D(32, (5, 5), activation=\"relu\")`\n",
            "  from ipykernel import kernelapp as app\n",
            "/usr/local/lib/python3.6/dist-packages/ipykernel_launcher.py:19: UserWarning: Update your `Conv2D` call to the Keras 2 API: `Conv2D(32, (3, 3), activation=\"relu\")`\n",
            "/usr/local/lib/python3.6/dist-packages/ipykernel_launcher.py:20: UserWarning: Update your `Conv2D` call to the Keras 2 API: `Conv2D(32, (3, 3), activation=\"relu\")`\n",
            "/usr/local/lib/python3.6/dist-packages/ipykernel_launcher.py:24: UserWarning: Update your `Conv2D` call to the Keras 2 API: `Conv2D(32, (1, 1), activation=\"relu\")`\n"
          ],
          "name": "stderr"
        },
        {
          "output_type": "stream",
          "text": [
            "WARNING:tensorflow:From /usr/local/lib/python3.6/dist-packages/keras/backend/tensorflow_backend.py:3733: calling dropout (from tensorflow.python.ops.nn_ops) with keep_prob is deprecated and will be removed in a future version.\n",
            "Instructions for updating:\n",
            "Please use `rate` instead of `keep_prob`. Rate should be set to `rate = 1 - keep_prob`.\n"
          ],
          "name": "stdout"
        },
        {
          "output_type": "stream",
          "text": [
            "/usr/local/lib/python3.6/dist-packages/ipykernel_launcher.py:25: UserWarning: Update your `Conv2D` call to the Keras 2 API: `Conv2D(32, (1, 1), activation=\"relu\")`\n",
            "/usr/local/lib/python3.6/dist-packages/ipykernel_launcher.py:44: UserWarning: Update your `Model` call to the Keras 2 API: `Model(inputs=Tensor(\"in..., outputs=Tensor(\"de...)`\n"
          ],
          "name": "stderr"
        },
        {
          "output_type": "stream",
          "text": [
            "WARNING:tensorflow:From /usr/local/lib/python3.6/dist-packages/tensorflow_core/python/ops/array_ops.py:1475: where (from tensorflow.python.ops.array_ops) is deprecated and will be removed in a future version.\n",
            "Instructions for updating:\n",
            "Use tf.where in 2.0, which has the same broadcast rule as np.where\n",
            "WARNING:tensorflow:From /usr/local/lib/python3.6/dist-packages/keras/backend/tensorflow_backend.py:4551: The name tf.log is deprecated. Please use tf.math.log instead.\n",
            "\n",
            "WARNING:tensorflow:From /usr/local/lib/python3.6/dist-packages/keras/optimizers.py:793: The name tf.train.Optimizer is deprecated. Please use tf.compat.v1.train.Optimizer instead.\n",
            "\n",
            "Model: \"model_2\"\n",
            "__________________________________________________________________________________________________\n",
            "Layer (type)                    Output Shape         Param #     Connected to                     \n",
            "==================================================================================================\n",
            "input_1 (InputLayer)            (None, 80, 170, 3)   0                                            \n",
            "__________________________________________________________________________________________________\n",
            "conv2d_1 (Conv2D)               (None, 78, 168, 32)  896         input_1[0][0]                    \n",
            "__________________________________________________________________________________________________\n",
            "conv2d_2 (Conv2D)               (None, 76, 166, 32)  9248        conv2d_1[0][0]                   \n",
            "__________________________________________________________________________________________________\n",
            "batch_normalization_1 (BatchNor (None, 76, 166, 32)  128         conv2d_2[0][0]                   \n",
            "__________________________________________________________________________________________________\n",
            "max_pooling2d_1 (MaxPooling2D)  (None, 38, 83, 32)   0           batch_normalization_1[0][0]      \n",
            "__________________________________________________________________________________________________\n",
            "conv2d_3 (Conv2D)               (None, 34, 79, 32)   25632       max_pooling2d_1[0][0]            \n",
            "__________________________________________________________________________________________________\n",
            "conv2d_4 (Conv2D)               (None, 30, 75, 32)   25632       conv2d_3[0][0]                   \n",
            "__________________________________________________________________________________________________\n",
            "batch_normalization_2 (BatchNor (None, 30, 75, 32)   128         conv2d_4[0][0]                   \n",
            "__________________________________________________________________________________________________\n",
            "max_pooling2d_2 (MaxPooling2D)  (None, 15, 37, 32)   0           batch_normalization_2[0][0]      \n",
            "__________________________________________________________________________________________________\n",
            "conv2d_5 (Conv2D)               (None, 13, 35, 32)   9248        max_pooling2d_2[0][0]            \n",
            "__________________________________________________________________________________________________\n",
            "conv2d_6 (Conv2D)               (None, 11, 33, 32)   9248        conv2d_5[0][0]                   \n",
            "__________________________________________________________________________________________________\n",
            "batch_normalization_3 (BatchNor (None, 11, 33, 32)   128         conv2d_6[0][0]                   \n",
            "__________________________________________________________________________________________________\n",
            "max_pooling2d_3 (MaxPooling2D)  (None, 5, 16, 32)    0           batch_normalization_3[0][0]      \n",
            "__________________________________________________________________________________________________\n",
            "conv2d_7 (Conv2D)               (None, 5, 16, 32)    1056        max_pooling2d_3[0][0]            \n",
            "__________________________________________________________________________________________________\n",
            "conv2d_8 (Conv2D)               (None, 5, 16, 32)    1056        conv2d_7[0][0]                   \n",
            "__________________________________________________________________________________________________\n",
            "batch_normalization_4 (BatchNor (None, 5, 16, 32)    128         conv2d_8[0][0]                   \n",
            "__________________________________________________________________________________________________\n",
            "max_pooling2d_4 (MaxPooling2D)  (None, 2, 16, 32)    0           batch_normalization_4[0][0]      \n",
            "__________________________________________________________________________________________________\n",
            "reshape_1 (Reshape)             (None, 16, 64)       0           max_pooling2d_4[0][0]            \n",
            "__________________________________________________________________________________________________\n",
            "dense_1 (Dense)                 (None, 16, 32)       2080        reshape_1[0][0]                  \n",
            "__________________________________________________________________________________________________\n",
            "dropout_1 (Dropout)             (None, 16, 32)       0           dense_1[0][0]                    \n",
            "__________________________________________________________________________________________________\n",
            "dense_2 (Dense)                 (None, 16, 37)       1221        dropout_1[0][0]                  \n",
            "__________________________________________________________________________________________________\n",
            "the_labels (InputLayer)         (None, 4)            0                                            \n",
            "__________________________________________________________________________________________________\n",
            "input_length (InputLayer)       (None, 1)            0                                            \n",
            "__________________________________________________________________________________________________\n",
            "label_length (InputLayer)       (None, 1)            0                                            \n",
            "__________________________________________________________________________________________________\n",
            "ctc (Lambda)                    (None, 1)            0           dense_2[0][0]                    \n",
            "                                                                 the_labels[0][0]                 \n",
            "                                                                 input_length[0][0]               \n",
            "                                                                 label_length[0][0]               \n",
            "==================================================================================================\n",
            "Total params: 85,829\n",
            "Trainable params: 85,573\n",
            "Non-trainable params: 256\n",
            "__________________________________________________________________________________________________\n"
          ],
          "name": "stdout"
        },
        {
          "output_type": "stream",
          "text": [
            "/usr/local/lib/python3.6/dist-packages/ipykernel_launcher.py:55: UserWarning: Update your `Model` call to the Keras 2 API: `Model(inputs=[<tf.Tenso..., outputs=[<tf.Tenso...)`\n"
          ],
          "name": "stderr"
        }
      ]
    },
    {
      "cell_type": "code",
      "metadata": {
        "id": "xlt39B2Npirx",
        "colab_type": "code",
        "colab": {}
      },
      "source": [
        "from keras import backend as K\n",
        "import keras\n",
        "\n",
        "##CTC Loss需要四個資訊，分別是\n",
        "## Label\n",
        "## 預測\n",
        "## CNN OUTPUT寬度\n",
        "## 預測影像所包含文字長度\n",
        "def ctc_lambda_func(args):\n",
        "    y_pred, labels, input_length, label_length = args\n",
        "    return K.ctc_batch_cost(labels, y_pred, input_length, label_length)"
      ],
      "execution_count": 0,
      "outputs": []
    },
    {
      "cell_type": "code",
      "metadata": {
        "colab_type": "code",
        "id": "5Jzb1YnqlJug",
        "colab": {}
      },
      "source": [
        "##設計generator產生training data\n",
        "## 產生包含要給loss的資訊\n",
        "## X=輸入影像\n",
        "## np.ones(batch_size)*int(conv_shape[2])=CNN輸出feature Map寬度\n",
        "## np.ones(batch_size)*n_len=字串長度(可浮動)\n",
        "\n",
        "def gen(batch_size=128):\n",
        "    X = np.zeros((batch_size,height, width, 3), dtype=np.uint8)\n",
        "    y = np.zeros((batch_size, n_len), dtype=np.uint8)\n",
        "    while True:\n",
        "        generator = ImageCaptcha(width=width, height=height)\n",
        "        for i in range(batch_size):\n",
        "            random_str = ''.join([random.choice(characters) for j in range(4)])\n",
        "            X[i] = np.array(generator.generate_image(random_str))\n",
        "            y[i] = [characters.find(x) for x in random_str]\n",
        "        yield [X, y,np.ones(batch_size)*int(conv_shape[2]), np.ones(batch_size)*n_len], np.ones(batch_size)"
      ],
      "execution_count": 0,
      "outputs": []
    },
    {
      "cell_type": "code",
      "metadata": {
        "colab_type": "code",
        "id": "dfcFs6InVQaT",
        "outputId": "b92de799-fe75-4f77-82dd-d771581d0fbb",
        "colab": {
          "base_uri": "https://localhost:8080/",
          "height": 259
        }
      },
      "source": [
        "next_ge=gen(batch_size=1)\n",
        "test_ge=next(next_ge)\n",
        "plt.imshow(test_ge[0][0][0])\n",
        "print('Label: ',test_ge[0][1])\n",
        "print('CNN輸出寬度: ',test_ge[0][2])\n",
        "print('字串長度(可浮動): ',test_ge[0][3])"
      ],
      "execution_count": 10,
      "outputs": [
        {
          "output_type": "stream",
          "text": [
            "Label:  [[31  7  5 35]]\n",
            "CNN輸出寬度:  [16.]\n",
            "字串長度(可浮動):  [4.]\n"
          ],
          "name": "stdout"
        },
        {
          "output_type": "display_data",
          "data": {
            "image/png": "[encoded data removed]",
            "text/plain": [
              "<Figure size 432x288 with 1 Axes>"
            ]
          },
          "metadata": {
            "tags": [],
            "image/png": {
              "width": 369,
              "height": 191
            }
          }
        }
      ]
    },
    {
      "cell_type": "markdown",
      "metadata": {
        "id": "_-P7HRiTpir8",
        "colab_type": "text"
      },
      "source": [
        "## 開始訓練"
      ]
    },
    {
      "cell_type": "code",
      "metadata": {
        "colab_type": "code",
        "id": "fqdKnqollUKj",
        "outputId": "df0e0824-5411-4139-85a0-12fda927347f",
        "colab": {
          "base_uri": "https://localhost:8080/",
          "height": 1000
        }
      },
      "source": [
        "model.fit_generator(gen(32), steps_per_epoch=300, epochs=60)"
      ],
      "execution_count": 11,
      "outputs": [
        {
          "output_type": "stream",
          "text": [
            "WARNING:tensorflow:From /usr/local/lib/python3.6/dist-packages/keras/backend/tensorflow_backend.py:1033: The name tf.assign_add is deprecated. Please use tf.compat.v1.assign_add instead.\n",
            "\n",
            "WARNING:tensorflow:From /usr/local/lib/python3.6/dist-packages/keras/backend/tensorflow_backend.py:1020: The name tf.assign is deprecated. Please use tf.compat.v1.assign instead.\n",
            "\n",
            "Epoch 1/60\n",
            "300/300 [==============================] - 50s 166ms/step - loss: 16.0097\n",
            "Epoch 2/60\n",
            "300/300 [==============================] - 43s 144ms/step - loss: 12.5417\n",
            "Epoch 3/60\n",
            "300/300 [==============================] - 44s 145ms/step - loss: 8.1102\n",
            "Epoch 4/60\n",
            "300/300 [==============================] - 43s 145ms/step - loss: 5.8420\n",
            "Epoch 5/60\n",
            "300/300 [==============================] - 44s 145ms/step - loss: 4.5863\n",
            "Epoch 6/60\n",
            "300/300 [==============================] - 44s 146ms/step - loss: 3.8472\n",
            "Epoch 7/60\n",
            "300/300 [==============================] - 43s 144ms/step - loss: 3.3017\n",
            "Epoch 8/60\n",
            "300/300 [==============================] - 43s 145ms/step - loss: 2.9654\n",
            "Epoch 9/60\n",
            "300/300 [==============================] - 43s 145ms/step - loss: 2.6515\n",
            "Epoch 10/60\n",
            "300/300 [==============================] - 43s 143ms/step - loss: 2.5092\n",
            "Epoch 11/60\n",
            "300/300 [==============================] - 45s 150ms/step - loss: 2.2852\n",
            "Epoch 12/60\n",
            "300/300 [==============================] - 44s 146ms/step - loss: 2.1823\n",
            "Epoch 13/60\n",
            "300/300 [==============================] - 44s 146ms/step - loss: 2.1024\n",
            "Epoch 14/60\n",
            "300/300 [==============================] - 44s 147ms/step - loss: 2.0229\n",
            "Epoch 15/60\n",
            "300/300 [==============================] - 44s 145ms/step - loss: 1.8781\n",
            "Epoch 16/60\n",
            "300/300 [==============================] - 43s 144ms/step - loss: 1.8150\n",
            "Epoch 17/60\n",
            "300/300 [==============================] - 43s 143ms/step - loss: 1.7960\n",
            "Epoch 18/60\n",
            "300/300 [==============================] - 42s 142ms/step - loss: 1.6601\n",
            "Epoch 19/60\n",
            "300/300 [==============================] - 43s 142ms/step - loss: 1.6177\n",
            "Epoch 20/60\n",
            "300/300 [==============================] - 43s 143ms/step - loss: 1.6403\n",
            "Epoch 21/60\n",
            "300/300 [==============================] - 43s 144ms/step - loss: 1.5588\n",
            "Epoch 22/60\n",
            "300/300 [==============================] - 43s 144ms/step - loss: 1.5489\n",
            "Epoch 23/60\n",
            "300/300 [==============================] - 43s 143ms/step - loss: 1.5127\n",
            "Epoch 24/60\n",
            "300/300 [==============================] - 43s 143ms/step - loss: 1.4594\n",
            "Epoch 25/60\n",
            "300/300 [==============================] - 43s 143ms/step - loss: 1.4472\n",
            "Epoch 26/60\n",
            "300/300 [==============================] - 45s 149ms/step - loss: 1.4022\n",
            "Epoch 27/60\n",
            "300/300 [==============================] - 43s 143ms/step - loss: 1.3716\n",
            "Epoch 28/60\n",
            "300/300 [==============================] - 43s 145ms/step - loss: 1.3614\n",
            "Epoch 29/60\n",
            "300/300 [==============================] - 43s 142ms/step - loss: 1.3496\n",
            "Epoch 30/60\n",
            "300/300 [==============================] - 44s 146ms/step - loss: 1.3288\n",
            "Epoch 31/60\n",
            "300/300 [==============================] - 43s 144ms/step - loss: 1.3205\n",
            "Epoch 32/60\n",
            "300/300 [==============================] - 43s 144ms/step - loss: 1.3373\n",
            "Epoch 33/60\n",
            "300/300 [==============================] - 44s 145ms/step - loss: 1.2821\n",
            "Epoch 34/60\n",
            "300/300 [==============================] - 43s 145ms/step - loss: 1.2944\n",
            "Epoch 35/60\n",
            "300/300 [==============================] - 43s 145ms/step - loss: 1.2571\n",
            "Epoch 36/60\n",
            "300/300 [==============================] - 44s 146ms/step - loss: 1.1966\n",
            "Epoch 37/60\n",
            "300/300 [==============================] - 44s 145ms/step - loss: 1.1908\n",
            "Epoch 38/60\n",
            "300/300 [==============================] - 44s 145ms/step - loss: 1.2043\n",
            "Epoch 39/60\n",
            "300/300 [==============================] - 43s 144ms/step - loss: 1.1837\n",
            "Epoch 40/60\n",
            "300/300 [==============================] - 43s 144ms/step - loss: 1.1755\n",
            "Epoch 41/60\n",
            "300/300 [==============================] - 43s 143ms/step - loss: 1.1989\n",
            "Epoch 42/60\n",
            "300/300 [==============================] - 43s 144ms/step - loss: 1.1486\n",
            "Epoch 43/60\n",
            "300/300 [==============================] - 44s 145ms/step - loss: 1.1694\n",
            "Epoch 44/60\n",
            "300/300 [==============================] - 44s 146ms/step - loss: 1.1562\n",
            "Epoch 45/60\n",
            "300/300 [==============================] - 44s 145ms/step - loss: 1.1601\n",
            "Epoch 46/60\n",
            "300/300 [==============================] - 43s 144ms/step - loss: 1.1066\n",
            "Epoch 47/60\n",
            "300/300 [==============================] - 43s 144ms/step - loss: 1.1208\n",
            "Epoch 48/60\n",
            "300/300 [==============================] - 43s 143ms/step - loss: 1.1553\n",
            "Epoch 49/60\n",
            "300/300 [==============================] - 43s 143ms/step - loss: 1.0684\n",
            "Epoch 50/60\n",
            "300/300 [==============================] - 42s 142ms/step - loss: 1.0890\n",
            "Epoch 51/60\n",
            "300/300 [==============================] - 43s 143ms/step - loss: 1.0964\n",
            "Epoch 52/60\n",
            "300/300 [==============================] - 43s 143ms/step - loss: 1.0498\n",
            "Epoch 53/60\n",
            "300/300 [==============================] - 43s 143ms/step - loss: 1.0474\n",
            "Epoch 54/60\n",
            "300/300 [==============================] - 42s 141ms/step - loss: 1.0693\n",
            "Epoch 55/60\n",
            "300/300 [==============================] - 43s 142ms/step - loss: 1.0737\n",
            "Epoch 56/60\n",
            "300/300 [==============================] - 43s 143ms/step - loss: 1.0468\n",
            "Epoch 57/60\n",
            "300/300 [==============================] - 43s 143ms/step - loss: 1.0603\n",
            "Epoch 58/60\n",
            "300/300 [==============================] - 46s 154ms/step - loss: 1.0145\n",
            "Epoch 59/60\n",
            "300/300 [==============================] - 44s 146ms/step - loss: 1.0160\n",
            "Epoch 60/60\n",
            "300/300 [==============================] - 44s 146ms/step - loss: 1.0332\n"
          ],
          "name": "stdout"
        },
        {
          "output_type": "execute_result",
          "data": {
            "text/plain": [
              "<keras.callbacks.History at 0x7fd0b634dc50>"
            ]
          },
          "metadata": {
            "tags": []
          },
          "execution_count": 11
        }
      ]
    },
    {
      "cell_type": "markdown",
      "metadata": {
        "id": "WWmWrBk_pisB",
        "colab_type": "text"
      },
      "source": [
        "## 預測"
      ]
    },
    {
      "cell_type": "code",
      "metadata": {
        "id": "oYAbCXydpisD",
        "colab_type": "code",
        "colab": {
          "base_uri": "https://localhost:8080/",
          "height": 234
        },
        "outputId": "cacd058e-d54a-422b-f906-ddda96d406dd"
      },
      "source": [
        "characters2 = characters + ' '\n",
        "[X_test, y_test, _, _], _  = next(gen(1))\n",
        "y_pred = base_model.predict(X_test)\n",
        "##用ctc_decode得到解答，自己寫可以參考下方\n",
        "out = K.get_value(K.ctc_decode(y_pred, input_length=np.ones(y_pred.shape[0])*y_pred.shape[1], )[0][0])\n",
        "out = ''.join([characters[x] for x in out[0]])\n",
        "y_true = ''.join([characters[x] for x in y_test[0]])\n",
        "\n",
        "plt.imshow(X_test[0])\n",
        "plt.title('pred:' + str(out) + '\\ntrue: ' + str(y_true))\n",
        "\n",
        "argmax = np.argmax(y_pred, axis=2)[0]"
      ],
      "execution_count": 12,
      "outputs": [
        {
          "output_type": "display_data",
          "data": {
            "image/png": "[encoded data removed]",
            "text/plain": [
              "<Figure size 432x288 with 1 Axes>"
            ]
          },
          "metadata": {
            "tags": [],
            "image/png": {
              "width": 369,
              "height": 217
            }
          }
        }
      ]
    },
    {
      "cell_type": "code",
      "metadata": {
        "id": "Pf7fx2cZ8tNF",
        "colab_type": "code",
        "colab": {
          "base_uri": "https://localhost:8080/",
          "height": 34
        },
        "outputId": "f10a6147-a972-420c-95ca-dfc20420c8fe"
      },
      "source": [
        "characters[17]"
      ],
      "execution_count": 13,
      "outputs": [
        {
          "output_type": "execute_result",
          "data": {
            "text/plain": [
              "'H'"
            ]
          },
          "metadata": {
            "tags": []
          },
          "execution_count": 13
        }
      ]
    },
    {
      "cell_type": "code",
      "metadata": {
        "id": "SHkqbhWN8vFm",
        "colab_type": "code",
        "colab": {
          "base_uri": "https://localhost:8080/",
          "height": 34
        },
        "outputId": "a41137d9-6254-49f0-af43-e04bc9a48bfe"
      },
      "source": [
        "y_pred[0].argmax(1)"
      ],
      "execution_count": 14,
      "outputs": [
        {
          "output_type": "execute_result",
          "data": {
            "text/plain": [
              "array([36, 36, 36, 36, 36, 36, 36, 36, 29, 16, 16, 36, 11, 36, 36,  0])"
            ]
          },
          "metadata": {
            "tags": []
          },
          "execution_count": 14
        }
      ]
    },
    {
      "cell_type": "markdown",
      "metadata": {
        "id": "IoIqmlYcpisG",
        "colab_type": "text"
      },
      "source": [
        "## 自己寫 decode CTC"
      ]
    },
    {
      "cell_type": "code",
      "metadata": {
        "id": "gG22i6sOpisH",
        "colab_type": "code",
        "colab": {}
      },
      "source": [
        "## 其中0代表預測為空格，如果預測相同字符之間沒有空格要移除\n",
        "word='0'\n",
        "n='0'\n",
        "for single_result in y_pred[0].argmax(1):\n",
        "    if single_result != 36:\n",
        "        if n != single_result:\n",
        "            word+=characters[single_result]\n",
        "    n=single_result "
      ],
      "execution_count": 0,
      "outputs": []
    },
    {
      "cell_type": "markdown",
      "metadata": {
        "id": "G-CVgWCvpisL",
        "colab_type": "text"
      },
      "source": [
        "## 額外參考：加入RNN的神經網路"
      ]
    },
    {
      "cell_type": "code",
      "metadata": {
        "id": "ZGNhrSjypisM",
        "colab_type": "code",
        "colab": {
          "base_uri": "https://localhost:8080/",
          "height": 258
        },
        "outputId": "9c417081-8c86-4c13-a69a-39e8c23ba60a"
      },
      "source": [
        "from keras.models import *\n",
        "from keras.layers import *\n",
        "rnn_size = 128\n",
        "\n",
        "input_tensor = Input((height,width, 3))\n",
        "x = input_tensor\n",
        "for i in range(4):\n",
        "    x = Convolution2D(32, 3, 3, activation='relu')(x)\n",
        "    x = keras.layers.BatchNormalization(axis=-1)(x)\n",
        "    x = Convolution2D(32, 3, 3, activation='relu')(x)\n",
        "    x = keras.layers.BatchNormalization(axis=-1)(x)\n",
        "    if i <3:\n",
        "        x = MaxPooling2D(pool_size=(2, 2))(x)\n",
        "    else:\n",
        "        x = MaxPooling2D(pool_size=(2, 1))(x)\n",
        "\n",
        "\n",
        "conv_shape = x.get_shape()\n",
        "x = Reshape(target_shape=(int(conv_shape[2]), int(conv_shape[1]*conv_shape[3])))(x)\n",
        "\n",
        "x = Dense(32, activation='relu')(x)\n",
        "\n",
        "gru_1 = GRU(rnn_size, return_sequences=True, init='he_normal', name='gru1')(x)\n",
        "gru_1b = GRU(rnn_size, return_sequences=True, go_backwards=True, \n",
        "             init='he_normal', name='gru1_b')(x)\n",
        "gru1_merged = keras.layers.add([gru_1, gru_1b])\n",
        "\n",
        "gru_2 = GRU(rnn_size, return_sequences=True, init='he_normal', name='gru2')(gru1_merged)\n",
        "gru_2b = GRU(rnn_size, return_sequences=True, go_backwards=True, \n",
        "             init='he_normal', name='gru2_b')(gru1_merged)\n",
        "x = keras.layers.Concatenate()([gru_2, gru_2b])\n",
        "\n",
        "x = Dropout(0.25)(x)\n",
        "x = Dense(n_class, init='he_normal', activation='softmax')(x)\n",
        "\n",
        "base_model = Model(input=input_tensor, output=x)\n",
        "\n",
        "labels = Input(name='the_labels', shape=[n_len], dtype='float32')\n",
        "input_length = Input(name='input_length', shape=[1], dtype='int64')\n",
        "label_length = Input(name='label_length', shape=[1], dtype='int64')\n",
        "loss_out = Lambda(ctc_lambda_func, output_shape=(1,), \n",
        "                  name='ctc')([x, labels, input_length, label_length])\n",
        "\n",
        "model = Model(input=[input_tensor, labels, input_length, label_length], output=[loss_out])\n",
        "model.compile(loss={'ctc': lambda y_true, y_pred: y_pred}, optimizer='Adam')"
      ],
      "execution_count": 17,
      "outputs": [
        {
          "output_type": "stream",
          "text": [
            "/usr/local/lib/python3.6/dist-packages/ipykernel_launcher.py:8: UserWarning: Update your `Conv2D` call to the Keras 2 API: `Conv2D(32, (3, 3), activation=\"relu\")`\n",
            "  \n",
            "/usr/local/lib/python3.6/dist-packages/ipykernel_launcher.py:10: UserWarning: Update your `Conv2D` call to the Keras 2 API: `Conv2D(32, (3, 3), activation=\"relu\")`\n",
            "  # Remove the CWD from sys.path while we load stuff.\n"
          ],
          "name": "stderr"
        },
        {
          "output_type": "stream",
          "text": [
            "WARNING:tensorflow:From /usr/local/lib/python3.6/dist-packages/keras/backend/tensorflow_backend.py:4479: The name tf.truncated_normal is deprecated. Please use tf.random.truncated_normal instead.\n",
            "\n"
          ],
          "name": "stdout"
        },
        {
          "output_type": "stream",
          "text": [
            "/usr/local/lib/python3.6/dist-packages/ipykernel_launcher.py:23: UserWarning: Update your `GRU` call to the Keras 2 API: `GRU(128, return_sequences=True, name=\"gru1\", kernel_initializer=\"he_normal\")`\n",
            "/usr/local/lib/python3.6/dist-packages/ipykernel_launcher.py:25: UserWarning: Update your `GRU` call to the Keras 2 API: `GRU(128, return_sequences=True, go_backwards=True, name=\"gru1_b\", kernel_initializer=\"he_normal\")`\n",
            "/usr/local/lib/python3.6/dist-packages/ipykernel_launcher.py:28: UserWarning: Update your `GRU` call to the Keras 2 API: `GRU(128, return_sequences=True, name=\"gru2\", kernel_initializer=\"he_normal\")`\n",
            "/usr/local/lib/python3.6/dist-packages/ipykernel_launcher.py:30: UserWarning: Update your `GRU` call to the Keras 2 API: `GRU(128, return_sequences=True, go_backwards=True, name=\"gru2_b\", kernel_initializer=\"he_normal\")`\n",
            "/usr/local/lib/python3.6/dist-packages/ipykernel_launcher.py:34: UserWarning: Update your `Dense` call to the Keras 2 API: `Dense(37, activation=\"softmax\", kernel_initializer=\"he_normal\")`\n",
            "/usr/local/lib/python3.6/dist-packages/ipykernel_launcher.py:36: UserWarning: Update your `Model` call to the Keras 2 API: `Model(inputs=Tensor(\"in..., outputs=Tensor(\"de...)`\n",
            "/usr/local/lib/python3.6/dist-packages/ipykernel_launcher.py:44: UserWarning: Update your `Model` call to the Keras 2 API: `Model(inputs=[<tf.Tenso..., outputs=[<tf.Tenso...)`\n"
          ],
          "name": "stderr"
        }
      ]
    },
    {
      "cell_type": "code",
      "metadata": {
        "id": "y9Sy6ND0pisR",
        "colab_type": "code",
        "colab": {
          "base_uri": "https://localhost:8080/",
          "height": 1000
        },
        "outputId": "c4a9eaf8-0b34-4359-9a55-fb13da24e8e5"
      },
      "source": [
        "model.summary()"
      ],
      "execution_count": 18,
      "outputs": [
        {
          "output_type": "stream",
          "text": [
            "Model: \"model_4\"\n",
            "__________________________________________________________________________________________________\n",
            "Layer (type)                    Output Shape         Param #     Connected to                     \n",
            "==================================================================================================\n",
            "input_2 (InputLayer)            (None, 80, 170, 3)   0                                            \n",
            "__________________________________________________________________________________________________\n",
            "conv2d_9 (Conv2D)               (None, 78, 168, 32)  896         input_2[0][0]                    \n",
            "__________________________________________________________________________________________________\n",
            "batch_normalization_5 (BatchNor (None, 78, 168, 32)  128         conv2d_9[0][0]                   \n",
            "__________________________________________________________________________________________________\n",
            "conv2d_10 (Conv2D)              (None, 76, 166, 32)  9248        batch_normalization_5[0][0]      \n",
            "__________________________________________________________________________________________________\n",
            "batch_normalization_6 (BatchNor (None, 76, 166, 32)  128         conv2d_10[0][0]                  \n",
            "__________________________________________________________________________________________________\n",
            "max_pooling2d_5 (MaxPooling2D)  (None, 38, 83, 32)   0           batch_normalization_6[0][0]      \n",
            "__________________________________________________________________________________________________\n",
            "conv2d_11 (Conv2D)              (None, 36, 81, 32)   9248        max_pooling2d_5[0][0]            \n",
            "__________________________________________________________________________________________________\n",
            "batch_normalization_7 (BatchNor (None, 36, 81, 32)   128         conv2d_11[0][0]                  \n",
            "__________________________________________________________________________________________________\n",
            "conv2d_12 (Conv2D)              (None, 34, 79, 32)   9248        batch_normalization_7[0][0]      \n",
            "__________________________________________________________________________________________________\n",
            "batch_normalization_8 (BatchNor (None, 34, 79, 32)   128         conv2d_12[0][0]                  \n",
            "__________________________________________________________________________________________________\n",
            "max_pooling2d_6 (MaxPooling2D)  (None, 17, 39, 32)   0           batch_normalization_8[0][0]      \n",
            "__________________________________________________________________________________________________\n",
            "conv2d_13 (Conv2D)              (None, 15, 37, 32)   9248        max_pooling2d_6[0][0]            \n",
            "__________________________________________________________________________________________________\n",
            "batch_normalization_9 (BatchNor (None, 15, 37, 32)   128         conv2d_13[0][0]                  \n",
            "__________________________________________________________________________________________________\n",
            "conv2d_14 (Conv2D)              (None, 13, 35, 32)   9248        batch_normalization_9[0][0]      \n",
            "__________________________________________________________________________________________________\n",
            "batch_normalization_10 (BatchNo (None, 13, 35, 32)   128         conv2d_14[0][0]                  \n",
            "__________________________________________________________________________________________________\n",
            "max_pooling2d_7 (MaxPooling2D)  (None, 6, 17, 32)    0           batch_normalization_10[0][0]     \n",
            "__________________________________________________________________________________________________\n",
            "conv2d_15 (Conv2D)              (None, 4, 15, 32)    9248        max_pooling2d_7[0][0]            \n",
            "__________________________________________________________________________________________________\n",
            "batch_normalization_11 (BatchNo (None, 4, 15, 32)    128         conv2d_15[0][0]                  \n",
            "__________________________________________________________________________________________________\n",
            "conv2d_16 (Conv2D)              (None, 2, 13, 32)    9248        batch_normalization_11[0][0]     \n",
            "__________________________________________________________________________________________________\n",
            "batch_normalization_12 (BatchNo (None, 2, 13, 32)    128         conv2d_16[0][0]                  \n",
            "__________________________________________________________________________________________________\n",
            "max_pooling2d_8 (MaxPooling2D)  (None, 1, 13, 32)    0           batch_normalization_12[0][0]     \n",
            "__________________________________________________________________________________________________\n",
            "reshape_2 (Reshape)             (None, 13, 32)       0           max_pooling2d_8[0][0]            \n",
            "__________________________________________________________________________________________________\n",
            "dense_3 (Dense)                 (None, 13, 32)       1056        reshape_2[0][0]                  \n",
            "__________________________________________________________________________________________________\n",
            "gru1 (GRU)                      (None, 13, 128)      61824       dense_3[0][0]                    \n",
            "__________________________________________________________________________________________________\n",
            "gru1_b (GRU)                    (None, 13, 128)      61824       dense_3[0][0]                    \n",
            "__________________________________________________________________________________________________\n",
            "add_1 (Add)                     (None, 13, 128)      0           gru1[0][0]                       \n",
            "                                                                 gru1_b[0][0]                     \n",
            "__________________________________________________________________________________________________\n",
            "gru2 (GRU)                      (None, 13, 128)      98688       add_1[0][0]                      \n",
            "__________________________________________________________________________________________________\n",
            "gru2_b (GRU)                    (None, 13, 128)      98688       add_1[0][0]                      \n",
            "__________________________________________________________________________________________________\n",
            "concatenate_1 (Concatenate)     (None, 13, 256)      0           gru2[0][0]                       \n",
            "                                                                 gru2_b[0][0]                     \n",
            "__________________________________________________________________________________________________\n",
            "dropout_2 (Dropout)             (None, 13, 256)      0           concatenate_1[0][0]              \n",
            "__________________________________________________________________________________________________\n",
            "dense_4 (Dense)                 (None, 13, 37)       9509        dropout_2[0][0]                  \n",
            "__________________________________________________________________________________________________\n",
            "the_labels (InputLayer)         (None, 4)            0                                            \n",
            "__________________________________________________________________________________________________\n",
            "input_length (InputLayer)       (None, 1)            0                                            \n",
            "__________________________________________________________________________________________________\n",
            "label_length (InputLayer)       (None, 1)            0                                            \n",
            "__________________________________________________________________________________________________\n",
            "ctc (Lambda)                    (None, 1)            0           dense_4[0][0]                    \n",
            "                                                                 the_labels[0][0]                 \n",
            "                                                                 input_length[0][0]               \n",
            "                                                                 label_length[0][0]               \n",
            "==================================================================================================\n",
            "Total params: 398,245\n",
            "Trainable params: 397,733\n",
            "Non-trainable params: 512\n",
            "__________________________________________________________________________________________________\n"
          ],
          "name": "stdout"
        }
      ]
    },
    {
      "cell_type": "code",
      "metadata": {
        "id": "XTGl_prapisV",
        "colab_type": "code",
        "colab": {}
      },
      "source": [
        ""
      ],
      "execution_count": 0,
      "outputs": []
    }
  ]
}